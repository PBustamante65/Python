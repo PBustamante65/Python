{
  "nbformat": 4,
  "nbformat_minor": 0,
  "metadata": {
    "colab": {
      "provenance": [],
      "mount_file_id": "1uP4e3OkRrmlMqAd_JTUNIcYLZ3pyw-Oz",
      "authorship_tag": "ABX9TyOG5WPZGxjH2AzqIHQ+8P9O",
      "include_colab_link": true
    },
    "kernelspec": {
      "name": "python3",
      "display_name": "Python 3"
    },
    "language_info": {
      "name": "python"
    }
  },
  "cells": [
    {
      "cell_type": "markdown",
      "metadata": {
        "id": "view-in-github",
        "colab_type": "text"
      },
      "source": [
        "<a href=\"https://colab.research.google.com/github/PBustamante65/Python/blob/main/2023_Cars_prediction.ipynb\" target=\"_parent\"><img src=\"https://colab.research.google.com/assets/colab-badge.svg\" alt=\"Open In Colab\"/></a>"
      ]
    },
    {
      "cell_type": "code",
      "execution_count": 149,
      "metadata": {
        "colab": {
          "base_uri": "https://localhost:8080/"
        },
        "id": "Wk5tJvTY7HOX",
        "outputId": "278f23eb-9291-48ce-ed4e-bf2c6054c450"
      },
      "outputs": [
        {
          "output_type": "stream",
          "name": "stdout",
          "text": [
            "Requirement already satisfied: catboost in /usr/local/lib/python3.10/dist-packages (1.2)\n",
            "Requirement already satisfied: graphviz in /usr/local/lib/python3.10/dist-packages (from catboost) (0.20.1)\n",
            "Requirement already satisfied: matplotlib in /usr/local/lib/python3.10/dist-packages (from catboost) (3.7.1)\n",
            "Requirement already satisfied: numpy>=1.16.0 in /usr/local/lib/python3.10/dist-packages (from catboost) (1.23.5)\n",
            "Requirement already satisfied: pandas>=0.24 in /usr/local/lib/python3.10/dist-packages (from catboost) (1.5.3)\n",
            "Requirement already satisfied: scipy in /usr/local/lib/python3.10/dist-packages (from catboost) (1.10.1)\n",
            "Requirement already satisfied: plotly in /usr/local/lib/python3.10/dist-packages (from catboost) (5.15.0)\n",
            "Requirement already satisfied: six in /usr/local/lib/python3.10/dist-packages (from catboost) (1.16.0)\n",
            "Requirement already satisfied: python-dateutil>=2.8.1 in /usr/local/lib/python3.10/dist-packages (from pandas>=0.24->catboost) (2.8.2)\n",
            "Requirement already satisfied: pytz>=2020.1 in /usr/local/lib/python3.10/dist-packages (from pandas>=0.24->catboost) (2023.3)\n",
            "Requirement already satisfied: contourpy>=1.0.1 in /usr/local/lib/python3.10/dist-packages (from matplotlib->catboost) (1.1.0)\n",
            "Requirement already satisfied: cycler>=0.10 in /usr/local/lib/python3.10/dist-packages (from matplotlib->catboost) (0.11.0)\n",
            "Requirement already satisfied: fonttools>=4.22.0 in /usr/local/lib/python3.10/dist-packages (from matplotlib->catboost) (4.42.0)\n",
            "Requirement already satisfied: kiwisolver>=1.0.1 in /usr/local/lib/python3.10/dist-packages (from matplotlib->catboost) (1.4.4)\n",
            "Requirement already satisfied: packaging>=20.0 in /usr/local/lib/python3.10/dist-packages (from matplotlib->catboost) (23.1)\n",
            "Requirement already satisfied: pillow>=6.2.0 in /usr/local/lib/python3.10/dist-packages (from matplotlib->catboost) (9.4.0)\n",
            "Requirement already satisfied: pyparsing>=2.3.1 in /usr/local/lib/python3.10/dist-packages (from matplotlib->catboost) (3.1.1)\n",
            "Requirement already satisfied: tenacity>=6.2.0 in /usr/local/lib/python3.10/dist-packages (from plotly->catboost) (8.2.2)\n"
          ]
        }
      ],
      "source": [
        "pip install catboost"
      ]
    },
    {
      "cell_type": "code",
      "source": [
        "import pandas as pd\n",
        "import matplotlib.pyplot as plt\n",
        "import seaborn as sns\n",
        "import numpy as np"
      ],
      "metadata": {
        "id": "M7ht_XLU8sVS"
      },
      "execution_count": 150,
      "outputs": []
    },
    {
      "cell_type": "code",
      "source": [
        "df_predict = pd.read_csv('/content/drive/MyDrive/Data Science/2023 Cars/2023Cars_no_price.csv')"
      ],
      "metadata": {
        "id": "Dg46lQrH7XHD"
      },
      "execution_count": 151,
      "outputs": []
    },
    {
      "cell_type": "code",
      "source": [
        "df_predict.columns"
      ],
      "metadata": {
        "colab": {
          "base_uri": "https://localhost:8080/"
        },
        "id": "4FPfJlEt9ydn",
        "outputId": "5f450812-d2a5-4b39-9a7d-7f8d26011c51"
      },
      "execution_count": 152,
      "outputs": [
        {
          "output_type": "execute_result",
          "data": {
            "text/plain": [
              "Index(['Car Make', 'Car Model', 'Year', 'Body Type', 'Color Options',\n",
              "       'Fuel Type', 'Engine Size (L)', 'Horsepower', 'Torque (Nm)',\n",
              "       'Transmission Type', 'Acceleration (0-60 mph)', 'Top Speed (mph)',\n",
              "       'Mileage (MPG)', 'Safety Features', 'Entertainment Features',\n",
              "       'Interior Features', 'Exterior Features', 'Customer Ratings',\n",
              "       'Sales Figures (Units Sold)', 'id'],\n",
              "      dtype='object')"
            ]
          },
          "metadata": {},
          "execution_count": 152
        }
      ]
    },
    {
      "cell_type": "code",
      "source": [
        "#We rename the columns because some, become clumsy to work with, especially with all those spaces\n",
        "column_name_changes = {\n",
        "    ' Price ($) ': 'Price',\n",
        "    ' Exterior Features                                           ': 'Exterior Features',\n",
        "    ' Interior Features                                ': 'Interior Features',\n",
        "    ' Car Make ': 'Car Make',\n",
        "    ' Car Model   ': 'Car Model',\n",
        "    ' Year ': 'Year',\n",
        "    ' Body Type ': 'Body Type',\n",
        "    ' Color Options                 ': 'Color Options',\n",
        "    ' Fuel Type ': 'Fuel Type',\n",
        "    'Engine Size (L)': 'Engine Size(L)',\n",
        "    ' Horsepower ' : 'Horsepower',\n",
        "    ' Torque (Nm) ' : 'Torque (Nm)',\n",
        "    ' Transmission Type ': 'Transmission Type',\n",
        "    ' Acceleration (0-60 mph) ': 'Acceleration (0-60 mph)',\n",
        "    ' Top Speed (mph) ': 'Top Speed (mph)',\n",
        "    ' Mileage (MPG) ': 'Mileage (MPG)',\n",
        "    ' Safety Features                                      ': 'Safety Features',\n",
        "    ' Entertainment Features               ': 'Entertainment Features',\n",
        "    ' Customer Ratings ': 'Customer Ratings',\n",
        "    ' Sales Figures (Units Sold)': 'Sales Figures (Units Sold)'\n",
        "\n",
        "}\n",
        "\n",
        "df_predict.rename(columns=column_name_changes, inplace=True)\n",
        "\n"
      ],
      "metadata": {
        "id": "TALe2ecU93nJ"
      },
      "execution_count": 153,
      "outputs": []
    },
    {
      "cell_type": "code",
      "source": [
        "\n",
        "#We also drop the comma and convert into float\n",
        "df_predict['Sales Figures (Units Sold)'] = df_predict['Sales Figures (Units Sold)'].str.replace(',', '').astype(float)\n",
        "\n",
        "#In this one, we drop the 'out of five (x/5)' part of the rating, might change the columns name to better reflect this in the future\n",
        "df_predict['Customer Ratings'] = df_predict['Customer Ratings'].str.split('/').str[0]\n",
        "\n",
        "#We drop the word seconds from the column and convert it to a float\n",
        "df_predict['Acceleration (0-60 mph)'] = df_predict['Acceleration (0-60 mph)'].str.replace(' seconds', '').astype(float)\n",
        "\n",
        "#The following was to drop an abreviation that appeared as (est.) when it came to electric cars\n",
        "df_predict['Horsepower'] = df_predict['Horsepower'].str.split('(').str[0]\n",
        "df_predict['Torque (Nm)'] = df_predict['Torque (Nm)'].str.split('(').str[0]\n",
        "df_predict['Top Speed (mph)'] = df_predict['Top Speed (mph)'].str.split('(').str[0]\n",
        "df_predict['Mileage (MPG)'] = df_predict['Mileage (MPG)'].str.split('(').str[0]"
      ],
      "metadata": {
        "id": "KPx_DLg2-Bnw"
      },
      "execution_count": 154,
      "outputs": []
    },
    {
      "cell_type": "code",
      "source": [
        "#After seeing the previous graph, we could see something was a miss, so after further diggin, we found 2 entries that were wrong, so we went ahead and fix them\n",
        "#Here we modify row 103, and 139, after some digging, we found that the info in some rows, were actually in another one, so, we set out to put everything in its place\n",
        "rows_to_modify = [80, 147]\n",
        "columns_to_modify = ['Customer Ratings', 'Sales Figures (Units Sold)', 'Mileage (MPG)', 'Entertainment Features', 'Safety Features']\n",
        "new_values = [4.9, 900, 110, '10.2-inch Infotainment Display', 'ABS, Airbags, HD Rear Vision Camera, Lane Keep Assist with Lane Departure Warning']\n",
        "\n",
        "for row_index in rows_to_modify:\n",
        "    for col_index, column in enumerate(columns_to_modify):\n",
        "        new_value = new_values[col_index]\n",
        "        df_predict.loc[row_index, column] = new_value\n",
        "\n",
        "\n"
      ],
      "metadata": {
        "id": "T1PKXVgg-V6N"
      },
      "execution_count": 155,
      "outputs": []
    },
    {
      "cell_type": "code",
      "source": [
        "rows_to_modify = [80]\n",
        "columns_to_modify = ['Exterior Features', 'Interior Features']\n",
        "new_values = ['LED Headlights, Roof Rails, 17-inch Alloy Wheels', 'HD Rear Wireless Smartphone Charging']\n",
        "\n",
        "for row_index in rows_to_modify:\n",
        "    for col_index, column in enumerate(columns_to_modify):\n",
        "        new_value = new_values[col_index]\n",
        "        df_predict.loc[row_index, column] = new_value\n",
        "\n",
        "\n",
        "rows_to_modify = [147]\n",
        "columns_to_modify = ['Interior Features']\n",
        "new_values = ['Leather Seats, Keyless Entry, Wireless Smartphone Charging']\n",
        "\n",
        "for row_index in rows_to_modify:\n",
        "    for col_index, column in enumerate(columns_to_modify):\n",
        "        new_value = new_values[col_index]\n",
        "        df_predict.loc[row_index, column] = new_value"
      ],
      "metadata": {
        "id": "iGikHa85-dIz"
      },
      "execution_count": 156,
      "outputs": []
    },
    {
      "cell_type": "code",
      "source": [
        "#We convert Top Speed to a float\n",
        "df_predict['Top Speed (mph)'] = df_predict['Top Speed (mph)'].str.replace(' mph', '').astype(float)\n",
        "\n",
        "#Convert Mileage to float\n",
        "df_predict['Mileage (MPG)'] = df_predict['Mileage (MPG)'].str.replace(' MPG', '').astype(float)\n",
        "\n",
        "\n"
      ],
      "metadata": {
        "id": "sZyTRXdI-h5n"
      },
      "execution_count": 157,
      "outputs": []
    },
    {
      "cell_type": "code",
      "source": [
        "#We convert Torque to float and drop the empty values of some rows\n",
        "df_predict['Torque (Nm)'] = df_predict['Torque (Nm)'].str.replace(' N/A         ', '').str.replace(' Nm', '').str.strip()\n",
        "df_predict = df_predict[df_predict['Torque (Nm)'] != '']  # Remove rows with empty values\n",
        "df_predict['Torque (Nm)'] = df_predict['Torque (Nm)'].astype(float)\n",
        "\n",
        "#Convert Horsepower into float\n",
        "df_predict['Horsepower'] = df_predict['Horsepower'].astype(float)"
      ],
      "metadata": {
        "id": "OXxnSpLD_d2P"
      },
      "execution_count": 158,
      "outputs": []
    },
    {
      "cell_type": "code",
      "source": [
        "#Once found, we can see its actually not a lot of values, so it makes no harm if we drop em for a cleaner workspace\n",
        "df_predict = df_predict.drop(df_predict.loc[df_predict['Mileage (MPG)'].isnull()].index)\n",
        "df_predict = df_predict.drop(df_predict.loc[df_predict['Exterior Features'].isnull()].index)\n",
        "df_predict = df_predict.drop(df_predict.loc[df_predict['Interior Features'].isnull()].index)\n",
        "\n",
        "#We dropped the outliers\n",
        "\n",
        "rows_to_drop = [148, 40, 107,135,41,88,4]\n",
        "df_predict = df_predict.drop(rows_to_drop)\n",
        "\n",
        "#Log transform for slighly right skewness\n",
        "df_predict['NormMileage'] = np.log(df_predict['Mileage (MPG)'])\n",
        "\n",
        "#Exponential transformation (X^2) for slightly right skewness\n",
        "df_predict['NormAcceleration'] = np.power(df_predict['Acceleration (0-60 mph)'], 2)\n",
        "\n",
        "\n",
        "#Log transformation for right skewness\n",
        "df_predict['NormTorque'] = np.log(df_predict['Torque (Nm)'])\n",
        "\n",
        "\n",
        "#Log transformation for left skewness\n",
        "df_predict['NormHorsepower'] = np.log(df_predict['Horsepower'])\n",
        "\n",
        "\n"
      ],
      "metadata": {
        "id": "AYb3OTGcB9sa"
      },
      "execution_count": 159,
      "outputs": []
    },
    {
      "cell_type": "code",
      "source": [
        "#We encode and separate our data to be used for predictions\n",
        "car_features = ['NormMileage', 'NormAcceleration', 'NormTorque', 'NormHorsepower', 'Engine Size(L)', 'Year']\n",
        "columns_to_encode = ['Body Type', 'Color Options', 'Fuel Type', 'Transmission Type', 'Car Make', 'Car Model', 'Safety Features', 'Entertainment Features', 'Interior Features', 'Exterior Features' ]\n",
        "\n",
        "df_predict_en = pd.get_dummies(df_predict, columns=columns_to_encode, prefix='Encode')\n",
        "en_columns = df_predict_en.filter(like='Encode')\n",
        "selected_columns = car_features + en_columns.columns.tolist()\n",
        "\n",
        "X = df_predict_en[selected_columns]"
      ],
      "metadata": {
        "id": "LTw3a_nE8ot9"
      },
      "execution_count": 160,
      "outputs": []
    },
    {
      "cell_type": "code",
      "source": [
        "#We import our previouslt trained model\n",
        "from catboost import CatBoostRegressor\n",
        "\n",
        "catboost_model = CatBoostRegressor()\n",
        "catboost_model.load_model('/content/drive/MyDrive/Data Science/2023 Cars/carboost_model.cbm')"
      ],
      "metadata": {
        "colab": {
          "base_uri": "https://localhost:8080/"
        },
        "id": "arI888l89GLB",
        "outputId": "65ceb27d-604f-46d2-928e-78bcee693256"
      },
      "execution_count": 161,
      "outputs": [
        {
          "output_type": "execute_result",
          "data": {
            "text/plain": [
              "<catboost.core.CatBoostRegressor at 0x7c4f888042b0>"
            ]
          },
          "metadata": {},
          "execution_count": 161
        }
      ]
    },
    {
      "cell_type": "code",
      "source": [
        "#We do the prediction and save it on a new variable\n",
        "predictions = catboost_model.predict(X)"
      ],
      "metadata": {
        "id": "VUFxMDjU9kbh"
      },
      "execution_count": 162,
      "outputs": []
    },
    {
      "cell_type": "code",
      "source": [
        "#This variable is still normalized, so we have to do an exponential transformation e^x to obtain our original price scale\n",
        "normalized_predictions = np.array([predictions])\n",
        "\n",
        "original_pvalues = np.exp(normalized_predictions)\n",
        "\n",
        "print(original_pvalues)"
      ],
      "metadata": {
        "colab": {
          "base_uri": "https://localhost:8080/"
        },
        "id": "-j62L7YvGhE9",
        "outputId": "5668ef58-0a3c-441b-91b0-88cd3d433057"
      },
      "execution_count": 163,
      "outputs": [
        {
          "output_type": "stream",
          "name": "stdout",
          "text": [
            "[[32349.94187463 25000.01448213 28500.02774419 42600.07025937\n",
            "  38949.94580057 22495.03548655 33899.99443331 45450.0598835\n",
            "  37510.05512767 26995.04620102 45899.94118773 28699.95491157\n",
            "  36085.01213105 21820.00565231 22950.00348705 34749.9394495\n",
            "  37774.86434237 21699.98606608 33419.96594394 26170.00759757\n",
            "  19489.97539975 21489.9864416  22594.98527138 67590.06325281\n",
            "  26649.95442978 75589.96255778 54499.98225821 41049.94649192\n",
            "  27500.01824902 28570.04601014 53249.94135701 51850.07981161\n",
            "  42700.04718099 43199.9614892  35600.0394231  37775.0180533\n",
            "  38500.039626   31945.04159405 43899.93881703 27849.97183662\n",
            "  36750.04181656 62699.91756402 33899.99443331 28450.0336296\n",
            "  28949.99728193 20400.01006574 20400.01006574 47699.99027102\n",
            "  23900.02912299 42850.00891053 47699.99027102 25000.00408062\n",
            "  29350.02758721 25000.00408062 17599.99429556 39899.93837167\n",
            "  17599.99429556 21820.00565231 51249.96078764 21820.00565231\n",
            "  31449.96286259 26170.00759757 26170.00759757 30894.94733366\n",
            "  21489.9864416  21489.9864416  33000.03626519 65589.9403526\n",
            "  75589.96255778 75589.96255778 27494.97123427 28895.03054346\n",
            "  37775.0180533  36584.98147815 30544.9953591  32650.05431345\n",
            "  27899.94990512 24649.97647534 33899.99443331 37775.0180533\n",
            "  20400.01006574 47699.99027102 25000.00408062 33899.99443331\n",
            "  17599.99429556 99949.92204581 20400.01006574 21820.00565231\n",
            "  26349.99207516 47699.99027102 26170.00759757 25000.00408062\n",
            "  21489.9864416  17599.99429556 33449.93862447 75589.96255778\n",
            "  37775.0180533  20450.03187362 26245.04157388 46799.96468087\n",
            "  33899.99443331 54699.97280713 20400.01006574 27549.97977141\n",
            "  47699.99027102 25000.00408062 35949.9521452  54199.96803006\n",
            "  54800.08285292 27650.02881935 33790.05230434 40100.03982723\n",
            "  36500.0601644  33409.95886862 42399.92640716 22994.95901901\n",
            "  46899.91767817 17599.99429556 21820.00565231 26170.00759757\n",
            "  21489.9864416  75589.96255778 37775.0180533  33899.99443331\n",
            "  20400.01006574 47699.99027102 25000.00408062 17599.99429556\n",
            "  21820.00565231 26170.00759757 21489.9864416  75589.96255778\n",
            "  37775.0180533  33590.04558163 44999.92330468 27845.02834351\n",
            "  62695.06805848 23430.02827287 35700.06164301 27775.03763985\n",
            "  40325.05156152 25194.98300868 45600.0657347  27699.96897039\n",
            "  39000.04403963 24325.02962929 48499.92982372 25000.01565343]]\n"
          ]
        }
      ]
    },
    {
      "cell_type": "code",
      "source": [
        "#We convert the  values, append it to a new dataframe and concatenate it to a new dataframe with, the original df, and the price predictions\n",
        "original_pvalues = original_pvalues.ravel()\n",
        "df_pvalues = pd.DataFrame({'Price_predictions': original_pvalues})\n",
        "\n",
        "df_with_predictions = pd.concat([df_predict, df_pvalues], axis=1)\n"
      ],
      "metadata": {
        "id": "ch5WcRqSHHGN"
      },
      "execution_count": 164,
      "outputs": []
    },
    {
      "cell_type": "code",
      "source": [
        "df_with_predictions.head()"
      ],
      "metadata": {
        "id": "WH29OJKHGSGy",
        "colab": {
          "base_uri": "https://localhost:8080/",
          "height": 488
        },
        "outputId": "fd813324-4547-4fa5-a6b8-e73039631a8f"
      },
      "execution_count": 165,
      "outputs": [
        {
          "output_type": "execute_result",
          "data": {
            "text/plain": [
              "     Car Make      Car Model    Year    Body Type  \\\n",
              "0   Kia         Sorento       2023.0   SUV          \n",
              "1   Kia         Sportage      2023.0   SUV          \n",
              "2   Toyota      Camry         2022.0   Sedan        \n",
              "3   Mercedes    C-Class       2023.0   Sedan        \n",
              "5   Jeep        Wrangler      2023.0   SUV          \n",
              "\n",
              "                     Color Options    Fuel Type Engine Size(L)  Horsepower  \\\n",
              "0   Silver, Black, Blue              Gasoline              2.5       191.0   \n",
              "1   Black, Silver, Red               Gasoline              2.4       181.0   \n",
              "2   White, Silver, Black             Gasoline              2.5       203.0   \n",
              "3   Black, Blue, White               Gasoline                2       255.0   \n",
              "5   Gray, Green, Red                 Gasoline              3.6       285.0   \n",
              "\n",
              "   Torque (Nm)   Transmission Type  ...  \\\n",
              "0        245.0   Automatic          ...   \n",
              "1        237.0   Automatic          ...   \n",
              "2        245.0   Automatic          ...   \n",
              "3        370.0   Automatic          ...   \n",
              "5        353.0   Automatic          ...   \n",
              "\n",
              "                                   Interior Features  \\\n",
              "0   Leather Seats, Heated Front Seats, Power Tail...   \n",
              "1   Cloth Seats, Power Mirrors, Keyless Entry    ...   \n",
              "2   Leather Seats, Power Driver's Seat, Dual-Zone...   \n",
              "3   Leather Seats, Heated Front Seats, Panoramic ...   \n",
              "5   Cloth Seats, Keyless Entry, Removable Top    ...   \n",
              "\n",
              "                                   Exterior Features  Customer Ratings  \\\n",
              "0   LED Headlights, Roof Rails, 18-inch Alloy Whe...               4.6   \n",
              "1   LED Daytime Running Lights, 17-inch Alloy Whe...               4.6   \n",
              "2   LED Headlights, Alloy Wheels, Sunroof        ...               4.5   \n",
              "3   LED Headlights, Alloy Wheels, Power Trunk    ...               4.8   \n",
              "5   LED Headlights, Tow Hooks, 17-inch Alloy Whee...               4.7   \n",
              "\n",
              "  Sales Figures (Units Sold)   id NormMileage NormAcceleration NormTorque  \\\n",
              "0                     1500.0  1.0    3.295837            59.29   5.501258   \n",
              "1                     2200.0  2.0    3.258097            68.89   5.468060   \n",
              "2                     1500.0  3.0    3.433987            62.41   5.501258   \n",
              "3                     1200.0  4.0    3.218876            34.81   5.913503   \n",
              "5                     1800.0  6.0    2.995732            53.29   5.866468   \n",
              "\n",
              "   NormHorsepower  Price_predictions  \n",
              "0        5.252273       32349.941875  \n",
              "1        5.198497       25000.014482  \n",
              "2        5.313206       28500.027744  \n",
              "3        5.541264       42600.070259  \n",
              "5        5.652489       22495.035487  \n",
              "\n",
              "[5 rows x 25 columns]"
            ],
            "text/html": [
              "\n",
              "\n",
              "  <div id=\"df-ab6d7d6e-d04e-48d0-89c0-a9e44042b386\">\n",
              "    <div class=\"colab-df-container\">\n",
              "      <div>\n",
              "<style scoped>\n",
              "    .dataframe tbody tr th:only-of-type {\n",
              "        vertical-align: middle;\n",
              "    }\n",
              "\n",
              "    .dataframe tbody tr th {\n",
              "        vertical-align: top;\n",
              "    }\n",
              "\n",
              "    .dataframe thead th {\n",
              "        text-align: right;\n",
              "    }\n",
              "</style>\n",
              "<table border=\"1\" class=\"dataframe\">\n",
              "  <thead>\n",
              "    <tr style=\"text-align: right;\">\n",
              "      <th></th>\n",
              "      <th>Car Make</th>\n",
              "      <th>Car Model</th>\n",
              "      <th>Year</th>\n",
              "      <th>Body Type</th>\n",
              "      <th>Color Options</th>\n",
              "      <th>Fuel Type</th>\n",
              "      <th>Engine Size(L)</th>\n",
              "      <th>Horsepower</th>\n",
              "      <th>Torque (Nm)</th>\n",
              "      <th>Transmission Type</th>\n",
              "      <th>...</th>\n",
              "      <th>Interior Features</th>\n",
              "      <th>Exterior Features</th>\n",
              "      <th>Customer Ratings</th>\n",
              "      <th>Sales Figures (Units Sold)</th>\n",
              "      <th>id</th>\n",
              "      <th>NormMileage</th>\n",
              "      <th>NormAcceleration</th>\n",
              "      <th>NormTorque</th>\n",
              "      <th>NormHorsepower</th>\n",
              "      <th>Price_predictions</th>\n",
              "    </tr>\n",
              "  </thead>\n",
              "  <tbody>\n",
              "    <tr>\n",
              "      <th>0</th>\n",
              "      <td>Kia</td>\n",
              "      <td>Sorento</td>\n",
              "      <td>2023.0</td>\n",
              "      <td>SUV</td>\n",
              "      <td>Silver, Black, Blue</td>\n",
              "      <td>Gasoline</td>\n",
              "      <td>2.5</td>\n",
              "      <td>191.0</td>\n",
              "      <td>245.0</td>\n",
              "      <td>Automatic</td>\n",
              "      <td>...</td>\n",
              "      <td>Leather Seats, Heated Front Seats, Power Tail...</td>\n",
              "      <td>LED Headlights, Roof Rails, 18-inch Alloy Whe...</td>\n",
              "      <td>4.6</td>\n",
              "      <td>1500.0</td>\n",
              "      <td>1.0</td>\n",
              "      <td>3.295837</td>\n",
              "      <td>59.29</td>\n",
              "      <td>5.501258</td>\n",
              "      <td>5.252273</td>\n",
              "      <td>32349.941875</td>\n",
              "    </tr>\n",
              "    <tr>\n",
              "      <th>1</th>\n",
              "      <td>Kia</td>\n",
              "      <td>Sportage</td>\n",
              "      <td>2023.0</td>\n",
              "      <td>SUV</td>\n",
              "      <td>Black, Silver, Red</td>\n",
              "      <td>Gasoline</td>\n",
              "      <td>2.4</td>\n",
              "      <td>181.0</td>\n",
              "      <td>237.0</td>\n",
              "      <td>Automatic</td>\n",
              "      <td>...</td>\n",
              "      <td>Cloth Seats, Power Mirrors, Keyless Entry    ...</td>\n",
              "      <td>LED Daytime Running Lights, 17-inch Alloy Whe...</td>\n",
              "      <td>4.6</td>\n",
              "      <td>2200.0</td>\n",
              "      <td>2.0</td>\n",
              "      <td>3.258097</td>\n",
              "      <td>68.89</td>\n",
              "      <td>5.468060</td>\n",
              "      <td>5.198497</td>\n",
              "      <td>25000.014482</td>\n",
              "    </tr>\n",
              "    <tr>\n",
              "      <th>2</th>\n",
              "      <td>Toyota</td>\n",
              "      <td>Camry</td>\n",
              "      <td>2022.0</td>\n",
              "      <td>Sedan</td>\n",
              "      <td>White, Silver, Black</td>\n",
              "      <td>Gasoline</td>\n",
              "      <td>2.5</td>\n",
              "      <td>203.0</td>\n",
              "      <td>245.0</td>\n",
              "      <td>Automatic</td>\n",
              "      <td>...</td>\n",
              "      <td>Leather Seats, Power Driver's Seat, Dual-Zone...</td>\n",
              "      <td>LED Headlights, Alloy Wheels, Sunroof        ...</td>\n",
              "      <td>4.5</td>\n",
              "      <td>1500.0</td>\n",
              "      <td>3.0</td>\n",
              "      <td>3.433987</td>\n",
              "      <td>62.41</td>\n",
              "      <td>5.501258</td>\n",
              "      <td>5.313206</td>\n",
              "      <td>28500.027744</td>\n",
              "    </tr>\n",
              "    <tr>\n",
              "      <th>3</th>\n",
              "      <td>Mercedes</td>\n",
              "      <td>C-Class</td>\n",
              "      <td>2023.0</td>\n",
              "      <td>Sedan</td>\n",
              "      <td>Black, Blue, White</td>\n",
              "      <td>Gasoline</td>\n",
              "      <td>2</td>\n",
              "      <td>255.0</td>\n",
              "      <td>370.0</td>\n",
              "      <td>Automatic</td>\n",
              "      <td>...</td>\n",
              "      <td>Leather Seats, Heated Front Seats, Panoramic ...</td>\n",
              "      <td>LED Headlights, Alloy Wheels, Power Trunk    ...</td>\n",
              "      <td>4.8</td>\n",
              "      <td>1200.0</td>\n",
              "      <td>4.0</td>\n",
              "      <td>3.218876</td>\n",
              "      <td>34.81</td>\n",
              "      <td>5.913503</td>\n",
              "      <td>5.541264</td>\n",
              "      <td>42600.070259</td>\n",
              "    </tr>\n",
              "    <tr>\n",
              "      <th>5</th>\n",
              "      <td>Jeep</td>\n",
              "      <td>Wrangler</td>\n",
              "      <td>2023.0</td>\n",
              "      <td>SUV</td>\n",
              "      <td>Gray, Green, Red</td>\n",
              "      <td>Gasoline</td>\n",
              "      <td>3.6</td>\n",
              "      <td>285.0</td>\n",
              "      <td>353.0</td>\n",
              "      <td>Automatic</td>\n",
              "      <td>...</td>\n",
              "      <td>Cloth Seats, Keyless Entry, Removable Top    ...</td>\n",
              "      <td>LED Headlights, Tow Hooks, 17-inch Alloy Whee...</td>\n",
              "      <td>4.7</td>\n",
              "      <td>1800.0</td>\n",
              "      <td>6.0</td>\n",
              "      <td>2.995732</td>\n",
              "      <td>53.29</td>\n",
              "      <td>5.866468</td>\n",
              "      <td>5.652489</td>\n",
              "      <td>22495.035487</td>\n",
              "    </tr>\n",
              "  </tbody>\n",
              "</table>\n",
              "<p>5 rows × 25 columns</p>\n",
              "</div>\n",
              "      <button class=\"colab-df-convert\" onclick=\"convertToInteractive('df-ab6d7d6e-d04e-48d0-89c0-a9e44042b386')\"\n",
              "              title=\"Convert this dataframe to an interactive table.\"\n",
              "              style=\"display:none;\">\n",
              "\n",
              "  <svg xmlns=\"http://www.w3.org/2000/svg\" height=\"24px\"viewBox=\"0 0 24 24\"\n",
              "       width=\"24px\">\n",
              "    <path d=\"M0 0h24v24H0V0z\" fill=\"none\"/>\n",
              "    <path d=\"M18.56 5.44l.94 2.06.94-2.06 2.06-.94-2.06-.94-.94-2.06-.94 2.06-2.06.94zm-11 1L8.5 8.5l.94-2.06 2.06-.94-2.06-.94L8.5 2.5l-.94 2.06-2.06.94zm10 10l.94 2.06.94-2.06 2.06-.94-2.06-.94-.94-2.06-.94 2.06-2.06.94z\"/><path d=\"M17.41 7.96l-1.37-1.37c-.4-.4-.92-.59-1.43-.59-.52 0-1.04.2-1.43.59L10.3 9.45l-7.72 7.72c-.78.78-.78 2.05 0 2.83L4 21.41c.39.39.9.59 1.41.59.51 0 1.02-.2 1.41-.59l7.78-7.78 2.81-2.81c.8-.78.8-2.07 0-2.86zM5.41 20L4 18.59l7.72-7.72 1.47 1.35L5.41 20z\"/>\n",
              "  </svg>\n",
              "      </button>\n",
              "\n",
              "\n",
              "\n",
              "    <div id=\"df-036a745d-db1c-42e4-b762-3ca99c7163c4\">\n",
              "      <button class=\"colab-df-quickchart\" onclick=\"quickchart('df-036a745d-db1c-42e4-b762-3ca99c7163c4')\"\n",
              "              title=\"Suggest charts.\"\n",
              "              style=\"display:none;\">\n",
              "\n",
              "<svg xmlns=\"http://www.w3.org/2000/svg\" height=\"24px\"viewBox=\"0 0 24 24\"\n",
              "     width=\"24px\">\n",
              "    <g>\n",
              "        <path d=\"M19 3H5c-1.1 0-2 .9-2 2v14c0 1.1.9 2 2 2h14c1.1 0 2-.9 2-2V5c0-1.1-.9-2-2-2zM9 17H7v-7h2v7zm4 0h-2V7h2v10zm4 0h-2v-4h2v4z\"/>\n",
              "    </g>\n",
              "</svg>\n",
              "      </button>\n",
              "    </div>\n",
              "\n",
              "<style>\n",
              "  .colab-df-quickchart {\n",
              "    background-color: #E8F0FE;\n",
              "    border: none;\n",
              "    border-radius: 50%;\n",
              "    cursor: pointer;\n",
              "    display: none;\n",
              "    fill: #1967D2;\n",
              "    height: 32px;\n",
              "    padding: 0 0 0 0;\n",
              "    width: 32px;\n",
              "  }\n",
              "\n",
              "  .colab-df-quickchart:hover {\n",
              "    background-color: #E2EBFA;\n",
              "    box-shadow: 0px 1px 2px rgba(60, 64, 67, 0.3), 0px 1px 3px 1px rgba(60, 64, 67, 0.15);\n",
              "    fill: #174EA6;\n",
              "  }\n",
              "\n",
              "  [theme=dark] .colab-df-quickchart {\n",
              "    background-color: #3B4455;\n",
              "    fill: #D2E3FC;\n",
              "  }\n",
              "\n",
              "  [theme=dark] .colab-df-quickchart:hover {\n",
              "    background-color: #434B5C;\n",
              "    box-shadow: 0px 1px 3px 1px rgba(0, 0, 0, 0.15);\n",
              "    filter: drop-shadow(0px 1px 2px rgba(0, 0, 0, 0.3));\n",
              "    fill: #FFFFFF;\n",
              "  }\n",
              "</style>\n",
              "\n",
              "    <script>\n",
              "      async function quickchart(key) {\n",
              "        const containerElement = document.querySelector('#' + key);\n",
              "        const charts = await google.colab.kernel.invokeFunction(\n",
              "            'suggestCharts', [key], {});\n",
              "      }\n",
              "    </script>\n",
              "\n",
              "      <script>\n",
              "\n",
              "function displayQuickchartButton(domScope) {\n",
              "  let quickchartButtonEl =\n",
              "    domScope.querySelector('#df-036a745d-db1c-42e4-b762-3ca99c7163c4 button.colab-df-quickchart');\n",
              "  quickchartButtonEl.style.display =\n",
              "    google.colab.kernel.accessAllowed ? 'block' : 'none';\n",
              "}\n",
              "\n",
              "        displayQuickchartButton(document);\n",
              "      </script>\n",
              "      <style>\n",
              "    .colab-df-container {\n",
              "      display:flex;\n",
              "      flex-wrap:wrap;\n",
              "      gap: 12px;\n",
              "    }\n",
              "\n",
              "    .colab-df-convert {\n",
              "      background-color: #E8F0FE;\n",
              "      border: none;\n",
              "      border-radius: 50%;\n",
              "      cursor: pointer;\n",
              "      display: none;\n",
              "      fill: #1967D2;\n",
              "      height: 32px;\n",
              "      padding: 0 0 0 0;\n",
              "      width: 32px;\n",
              "    }\n",
              "\n",
              "    .colab-df-convert:hover {\n",
              "      background-color: #E2EBFA;\n",
              "      box-shadow: 0px 1px 2px rgba(60, 64, 67, 0.3), 0px 1px 3px 1px rgba(60, 64, 67, 0.15);\n",
              "      fill: #174EA6;\n",
              "    }\n",
              "\n",
              "    [theme=dark] .colab-df-convert {\n",
              "      background-color: #3B4455;\n",
              "      fill: #D2E3FC;\n",
              "    }\n",
              "\n",
              "    [theme=dark] .colab-df-convert:hover {\n",
              "      background-color: #434B5C;\n",
              "      box-shadow: 0px 1px 3px 1px rgba(0, 0, 0, 0.15);\n",
              "      filter: drop-shadow(0px 1px 2px rgba(0, 0, 0, 0.3));\n",
              "      fill: #FFFFFF;\n",
              "    }\n",
              "  </style>\n",
              "\n",
              "      <script>\n",
              "        const buttonEl =\n",
              "          document.querySelector('#df-ab6d7d6e-d04e-48d0-89c0-a9e44042b386 button.colab-df-convert');\n",
              "        buttonEl.style.display =\n",
              "          google.colab.kernel.accessAllowed ? 'block' : 'none';\n",
              "\n",
              "        async function convertToInteractive(key) {\n",
              "          const element = document.querySelector('#df-ab6d7d6e-d04e-48d0-89c0-a9e44042b386');\n",
              "          const dataTable =\n",
              "            await google.colab.kernel.invokeFunction('convertToInteractive',\n",
              "                                                     [key], {});\n",
              "          if (!dataTable) return;\n",
              "\n",
              "          const docLinkHtml = 'Like what you see? Visit the ' +\n",
              "            '<a target=\"_blank\" href=https://colab.research.google.com/notebooks/data_table.ipynb>data table notebook</a>'\n",
              "            + ' to learn more about interactive tables.';\n",
              "          element.innerHTML = '';\n",
              "          dataTable['output_type'] = 'display_data';\n",
              "          await google.colab.output.renderOutput(dataTable, element);\n",
              "          const docLink = document.createElement('div');\n",
              "          docLink.innerHTML = docLinkHtml;\n",
              "          element.appendChild(docLink);\n",
              "        }\n",
              "      </script>\n",
              "    </div>\n",
              "  </div>\n"
            ]
          },
          "metadata": {},
          "execution_count": 165
        }
      ]
    },
    {
      "cell_type": "code",
      "source": [],
      "metadata": {
        "id": "BQPCz23wGcbv"
      },
      "execution_count": 165,
      "outputs": []
    }
  ]
}