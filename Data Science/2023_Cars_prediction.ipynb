{
  "nbformat": 4,
  "nbformat_minor": 0,
  "metadata": {
    "colab": {
      "provenance": [],
      "mount_file_id": "1uP4e3OkRrmlMqAd_JTUNIcYLZ3pyw-Oz",
      "authorship_tag": "ABX9TyOTIpoyrkwwaADdDqjfOa41",
      "include_colab_link": true
    },
    "kernelspec": {
      "name": "python3",
      "display_name": "Python 3"
    },
    "language_info": {
      "name": "python"
    }
  },
  "cells": [
    {
      "cell_type": "markdown",
      "metadata": {
        "id": "view-in-github",
        "colab_type": "text"
      },
      "source": [
        "<a href=\"https://colab.research.google.com/github/PBustamante65/Python/blob/main/2023_Cars_prediction.ipynb\" target=\"_parent\"><img src=\"https://colab.research.google.com/assets/colab-badge.svg\" alt=\"Open In Colab\"/></a>"
      ]
    },
    {
      "cell_type": "code",
      "execution_count": null,
      "metadata": {
        "colab": {
          "base_uri": "https://localhost:8080/"
        },
        "id": "Wk5tJvTY7HOX",
        "outputId": "f6b472bf-9bc3-496c-9ed3-9b9614f8eb73"
      },
      "outputs": [
        {
          "output_type": "stream",
          "name": "stdout",
          "text": [
            "Collecting catboost\n",
            "  Downloading catboost-1.2-cp310-cp310-manylinux2014_x86_64.whl (98.6 MB)\n",
            "\u001b[2K     \u001b[90m━━━━━━━━━━━━━━━━━━━━━━━━━━━━━━━━━━━━━━━━\u001b[0m \u001b[32m98.6/98.6 MB\u001b[0m \u001b[31m7.5 MB/s\u001b[0m eta \u001b[36m0:00:00\u001b[0m\n",
            "\u001b[?25hRequirement already satisfied: graphviz in /usr/local/lib/python3.10/dist-packages (from catboost) (0.20.1)\n",
            "Requirement already satisfied: matplotlib in /usr/local/lib/python3.10/dist-packages (from catboost) (3.7.1)\n",
            "Requirement already satisfied: numpy>=1.16.0 in /usr/local/lib/python3.10/dist-packages (from catboost) (1.23.5)\n",
            "Requirement already satisfied: pandas>=0.24 in /usr/local/lib/python3.10/dist-packages (from catboost) (1.5.3)\n",
            "Requirement already satisfied: scipy in /usr/local/lib/python3.10/dist-packages (from catboost) (1.10.1)\n",
            "Requirement already satisfied: plotly in /usr/local/lib/python3.10/dist-packages (from catboost) (5.15.0)\n",
            "Requirement already satisfied: six in /usr/local/lib/python3.10/dist-packages (from catboost) (1.16.0)\n",
            "Requirement already satisfied: python-dateutil>=2.8.1 in /usr/local/lib/python3.10/dist-packages (from pandas>=0.24->catboost) (2.8.2)\n",
            "Requirement already satisfied: pytz>=2020.1 in /usr/local/lib/python3.10/dist-packages (from pandas>=0.24->catboost) (2023.3)\n",
            "Requirement already satisfied: contourpy>=1.0.1 in /usr/local/lib/python3.10/dist-packages (from matplotlib->catboost) (1.1.0)\n",
            "Requirement already satisfied: cycler>=0.10 in /usr/local/lib/python3.10/dist-packages (from matplotlib->catboost) (0.11.0)\n",
            "Requirement already satisfied: fonttools>=4.22.0 in /usr/local/lib/python3.10/dist-packages (from matplotlib->catboost) (4.42.0)\n",
            "Requirement already satisfied: kiwisolver>=1.0.1 in /usr/local/lib/python3.10/dist-packages (from matplotlib->catboost) (1.4.4)\n",
            "Requirement already satisfied: packaging>=20.0 in /usr/local/lib/python3.10/dist-packages (from matplotlib->catboost) (23.1)\n",
            "Requirement already satisfied: pillow>=6.2.0 in /usr/local/lib/python3.10/dist-packages (from matplotlib->catboost) (9.4.0)\n",
            "Requirement already satisfied: pyparsing>=2.3.1 in /usr/local/lib/python3.10/dist-packages (from matplotlib->catboost) (3.1.1)\n",
            "Requirement already satisfied: tenacity>=6.2.0 in /usr/local/lib/python3.10/dist-packages (from plotly->catboost) (8.2.2)\n",
            "Installing collected packages: catboost\n",
            "Successfully installed catboost-1.2\n"
          ]
        }
      ],
      "source": [
        "pip install catboost"
      ]
    },
    {
      "cell_type": "code",
      "source": [
        "import pandas as pd\n",
        "import matplotlib.pyplot as plt\n",
        "import seaborn as sns\n",
        "import numpy as np"
      ],
      "metadata": {
        "id": "M7ht_XLU8sVS"
      },
      "execution_count": null,
      "outputs": []
    },
    {
      "cell_type": "code",
      "source": [
        "df_predict = pd.read_csv('/content/drive/MyDrive/Data Science/2023 Cars/2023Cars_no_price.csv')"
      ],
      "metadata": {
        "id": "Dg46lQrH7XHD"
      },
      "execution_count": null,
      "outputs": []
    },
    {
      "cell_type": "code",
      "source": [
        "df_predict.columns"
      ],
      "metadata": {
        "colab": {
          "base_uri": "https://localhost:8080/"
        },
        "id": "4FPfJlEt9ydn",
        "outputId": "4ae163ba-8a2e-4cdc-abaf-ed68308fc017"
      },
      "execution_count": null,
      "outputs": [
        {
          "output_type": "execute_result",
          "data": {
            "text/plain": [
              "Index(['Car Make', 'Car Model', 'Year', 'Body Type', 'Color Options',\n",
              "       'Fuel Type', 'Engine Size (L)', 'Horsepower', 'Torque (Nm)',\n",
              "       'Transmission Type', 'Acceleration (0-60 mph)', 'Top Speed (mph)',\n",
              "       'Mileage (MPG)', 'Safety Features', 'Entertainment Features',\n",
              "       'Interior Features', 'Exterior Features', 'Customer Ratings',\n",
              "       'Sales Figures (Units Sold)', 'id'],\n",
              "      dtype='object')"
            ]
          },
          "metadata": {},
          "execution_count": 135
        }
      ]
    },
    {
      "cell_type": "code",
      "source": [
        "#We rename the columns because some, become clumsy to work with, especially with all those spaces\n",
        "column_name_changes = {\n",
        "    ' Price ($) ': 'Price',\n",
        "    ' Exterior Features                                           ': 'Exterior Features',\n",
        "    ' Interior Features                                ': 'Interior Features',\n",
        "    ' Car Make ': 'Car Make',\n",
        "    ' Car Model   ': 'Car Model',\n",
        "    ' Year ': 'Year',\n",
        "    ' Body Type ': 'Body Type',\n",
        "    ' Color Options                 ': 'Color Options',\n",
        "    ' Fuel Type ': 'Fuel Type',\n",
        "    'Engine Size (L)': 'Engine Size(L)',\n",
        "    ' Horsepower ' : 'Horsepower',\n",
        "    ' Torque (Nm) ' : 'Torque (Nm)',\n",
        "    ' Transmission Type ': 'Transmission Type',\n",
        "    ' Acceleration (0-60 mph) ': 'Acceleration (0-60 mph)',\n",
        "    ' Top Speed (mph) ': 'Top Speed (mph)',\n",
        "    ' Mileage (MPG) ': 'Mileage (MPG)',\n",
        "    ' Safety Features                                      ': 'Safety Features',\n",
        "    ' Entertainment Features               ': 'Entertainment Features',\n",
        "    ' Customer Ratings ': 'Customer Ratings',\n",
        "    ' Sales Figures (Units Sold)': 'Sales Figures (Units Sold)'\n",
        "\n",
        "}\n",
        "\n",
        "df_predict.rename(columns=column_name_changes, inplace=True)\n",
        "\n"
      ],
      "metadata": {
        "id": "TALe2ecU93nJ"
      },
      "execution_count": null,
      "outputs": []
    },
    {
      "cell_type": "code",
      "source": [
        "\n",
        "#We also drop the comma and convert into float\n",
        "df_predict['Sales Figures (Units Sold)'] = df_predict['Sales Figures (Units Sold)'].str.replace(',', '').astype(float)\n",
        "\n",
        "#In this one, we drop the 'out of five (x/5)' part of the rating, might change the columns name to better reflect this in the future\n",
        "df_predict['Customer Ratings'] = df_predict['Customer Ratings'].str.split('/').str[0]\n",
        "\n",
        "#We drop the word seconds from the column and convert it to a float\n",
        "df_predict['Acceleration (0-60 mph)'] = df_predict['Acceleration (0-60 mph)'].str.replace(' seconds', '').astype(float)\n",
        "\n",
        "#The following was to drop an abreviation that appeared as (est.) when it came to electric cars\n",
        "df_predict['Horsepower'] = df_predict['Horsepower'].str.split('(').str[0]\n",
        "df_predict['Torque (Nm)'] = df_predict['Torque (Nm)'].str.split('(').str[0]\n",
        "df_predict['Top Speed (mph)'] = df_predict['Top Speed (mph)'].str.split('(').str[0]\n",
        "df_predict['Mileage (MPG)'] = df_predict['Mileage (MPG)'].str.split('(').str[0]"
      ],
      "metadata": {
        "id": "KPx_DLg2-Bnw"
      },
      "execution_count": null,
      "outputs": []
    },
    {
      "cell_type": "code",
      "source": [
        "#After seeing the previous graph, we could see something was a miss, so after further diggin, we found 2 entries that were wrong, so we went ahead and fix them\n",
        "#Here we modify row 103, and 139, after some digging, we found that the info in some rows, were actually in another one, so, we set out to put everything in its place\n",
        "rows_to_modify = [80, 147]\n",
        "columns_to_modify = ['Customer Ratings', 'Sales Figures (Units Sold)', 'Mileage (MPG)', 'Entertainment Features', 'Safety Features']\n",
        "new_values = [4.9, 900, 110, '10.2-inch Infotainment Display', 'ABS, Airbags, HD Rear Vision Camera, Lane Keep Assist with Lane Departure Warning']\n",
        "\n",
        "for row_index in rows_to_modify:\n",
        "    for col_index, column in enumerate(columns_to_modify):\n",
        "        new_value = new_values[col_index]\n",
        "        df_predict.loc[row_index, column] = new_value\n",
        "\n",
        "\n"
      ],
      "metadata": {
        "id": "T1PKXVgg-V6N"
      },
      "execution_count": null,
      "outputs": []
    },
    {
      "cell_type": "code",
      "source": [
        "rows_to_modify = [80]\n",
        "columns_to_modify = ['Exterior Features', 'Interior Features']\n",
        "new_values = ['LED Headlights, Roof Rails, 17-inch Alloy Wheels', 'HD Rear Wireless Smartphone Charging']\n",
        "\n",
        "for row_index in rows_to_modify:\n",
        "    for col_index, column in enumerate(columns_to_modify):\n",
        "        new_value = new_values[col_index]\n",
        "        df_predict.loc[row_index, column] = new_value\n",
        "\n",
        "\n",
        "rows_to_modify = [147]\n",
        "columns_to_modify = ['Interior Features']\n",
        "new_values = ['Leather Seats, Keyless Entry, Wireless Smartphone Charging']\n",
        "\n",
        "for row_index in rows_to_modify:\n",
        "    for col_index, column in enumerate(columns_to_modify):\n",
        "        new_value = new_values[col_index]\n",
        "        df_predict.loc[row_index, column] = new_value"
      ],
      "metadata": {
        "id": "iGikHa85-dIz"
      },
      "execution_count": null,
      "outputs": []
    },
    {
      "cell_type": "code",
      "source": [
        "#We convert Top Speed to a float\n",
        "df_predict['Top Speed (mph)'] = df_predict['Top Speed (mph)'].str.replace(' mph', '').astype(float)\n",
        "\n",
        "#Convert Mileage to float\n",
        "df_predict['Mileage (MPG)'] = df_predict['Mileage (MPG)'].str.replace(' MPG', '').astype(float)\n",
        "\n",
        "\n"
      ],
      "metadata": {
        "id": "sZyTRXdI-h5n"
      },
      "execution_count": null,
      "outputs": []
    },
    {
      "cell_type": "code",
      "source": [
        "#We convert Torque to float and drop the empty values of some rows\n",
        "df_predict['Torque (Nm)'] = df_predict['Torque (Nm)'].str.replace(' N/A         ', '').str.replace(' Nm', '').str.strip()\n",
        "df_predict = df_predict[df_predict['Torque (Nm)'] != '']  # Remove rows with empty values\n",
        "df_predict['Torque (Nm)'] = df_predict['Torque (Nm)'].astype(float)\n",
        "\n",
        "#Convert Horsepower into float\n",
        "df_predict['Horsepower'] = df_predict['Horsepower'].astype(float)"
      ],
      "metadata": {
        "colab": {
          "base_uri": "https://localhost:8080/"
        },
        "id": "OXxnSpLD_d2P",
        "outputId": "5b32b95f-b988-47cc-f9be-6c310dd1d0f8"
      },
      "execution_count": null,
      "outputs": [
        {
          "output_type": "stream",
          "name": "stderr",
          "text": [
            "<ipython-input-141-87b823d63a33>:4: SettingWithCopyWarning: \n",
            "A value is trying to be set on a copy of a slice from a DataFrame.\n",
            "Try using .loc[row_indexer,col_indexer] = value instead\n",
            "\n",
            "See the caveats in the documentation: https://pandas.pydata.org/pandas-docs/stable/user_guide/indexing.html#returning-a-view-versus-a-copy\n",
            "  df_predict['Torque (Nm)'] = df_predict['Torque (Nm)'].astype(float)\n",
            "<ipython-input-141-87b823d63a33>:7: SettingWithCopyWarning: \n",
            "A value is trying to be set on a copy of a slice from a DataFrame.\n",
            "Try using .loc[row_indexer,col_indexer] = value instead\n",
            "\n",
            "See the caveats in the documentation: https://pandas.pydata.org/pandas-docs/stable/user_guide/indexing.html#returning-a-view-versus-a-copy\n",
            "  df_predict['Horsepower'] = df_predict['Horsepower'].astype(float)\n"
          ]
        }
      ]
    },
    {
      "cell_type": "code",
      "source": [
        "#Once found, we can see its actually not a lot of values, so it makes no harm if we drop em for a cleaner workspace\n",
        "df_predict = df_predict.drop(df_predict.loc[df_predict['Mileage (MPG)'].isnull()].index)\n",
        "df_predict = df_predict.drop(df_predict.loc[df_predict['Exterior Features'].isnull()].index)\n",
        "df_predict = df_predict.drop(df_predict.loc[df_predict['Interior Features'].isnull()].index)\n",
        "\n",
        "#We dropped the outliers\n",
        "\n",
        "rows_to_drop = [148, 40, 107,135,41,88,4]\n",
        "df_predict = df_predict.drop(rows_to_drop)\n",
        "\n",
        "#Log transform for slighly right skewness\n",
        "df_predict['NormMileage'] = np.log(df_predict['Mileage (MPG)'])\n",
        "\n",
        "#Exponential transformation (X^2) for slightly right skewness\n",
        "df_predict['NormAcceleration'] = np.power(df_predict['Acceleration (0-60 mph)'], 2)\n",
        "\n",
        "\n",
        "#Log transformation for right skewness\n",
        "df_predict['NormTorque'] = np.log(df_predict['Torque (Nm)'])\n",
        "\n",
        "\n",
        "#Log transformation for left skewness\n",
        "df_predict['NormHorsepower'] = np.log(df_predict['Horsepower'])\n",
        "\n",
        "\n"
      ],
      "metadata": {
        "id": "AYb3OTGcB9sa"
      },
      "execution_count": null,
      "outputs": []
    },
    {
      "cell_type": "code",
      "source": [
        "#We encode and separate our data to be used for predictions\n",
        "car_features = ['NormMileage', 'NormAcceleration', 'NormTorque', 'NormHorsepower', 'Engine Size(L)', 'Year']\n",
        "columns_to_encode = ['Body Type', 'Color Options', 'Fuel Type', 'Transmission Type', 'Car Make', 'Car Model', 'Safety Features', 'Entertainment Features', 'Interior Features', 'Exterior Features' ]\n",
        "\n",
        "df_predict_en = pd.get_dummies(df_predict, columns=columns_to_encode, prefix='Encode')\n",
        "en_columns = df_predict_en.filter(like='Encode')\n",
        "selected_columns = car_features + en_columns.columns.tolist()\n",
        "\n",
        "X = df_predict_en[selected_columns]"
      ],
      "metadata": {
        "id": "LTw3a_nE8ot9"
      },
      "execution_count": null,
      "outputs": []
    },
    {
      "cell_type": "code",
      "source": [
        "#We import our previouslt trained model\n",
        "from catboost import CatBoostRegressor\n",
        "\n",
        "catboost_model = CatBoostRegressor()\n",
        "catboost_model.load_model('/content/drive/MyDrive/Data Science/2023 Cars/carboost_model.cbm')"
      ],
      "metadata": {
        "colab": {
          "base_uri": "https://localhost:8080/"
        },
        "id": "arI888l89GLB",
        "outputId": "51d882d8-84a7-48ce-e080-57313e620014"
      },
      "execution_count": null,
      "outputs": [
        {
          "output_type": "execute_result",
          "data": {
            "text/plain": [
              "<catboost.core.CatBoostRegressor at 0x7c4f889b3a00>"
            ]
          },
          "metadata": {},
          "execution_count": 144
        }
      ]
    },
    {
      "cell_type": "code",
      "source": [
        "#We do the prediction and save it on a new variable\n",
        "predictions = catboost_model.predict(X)"
      ],
      "metadata": {
        "id": "VUFxMDjU9kbh"
      },
      "execution_count": null,
      "outputs": []
    },
    {
      "cell_type": "code",
      "source": [
        "#This variable is still normalized, so we have to do an exponential transformation e^x to obtain our original price scale\n",
        "normalized_predictions = np.array([predictions])\n",
        "\n",
        "original_pvalues = np.exp(normalized_predictions)\n",
        "\n",
        "print(original_pvalues)"
      ],
      "metadata": {
        "colab": {
          "base_uri": "https://localhost:8080/"
        },
        "id": "-j62L7YvGhE9",
        "outputId": "c1322c38-784e-4414-dba0-cfbdb3b95138"
      },
      "execution_count": null,
      "outputs": [
        {
          "output_type": "stream",
          "name": "stdout",
          "text": [
            "[[32349.94187463 25000.01448213 28500.02774419 42600.07025937\n",
            "  38949.94580057 22495.03548655 33899.99443331 45450.0598835\n",
            "  37510.05512767 26995.04620102 45899.94118773 28699.95491157\n",
            "  36085.01213105 21820.00565231 22950.00348705 34749.9394495\n",
            "  37774.86434237 21699.98606608 33419.96594394 26170.00759757\n",
            "  19489.97539975 21489.9864416  22594.98527138 67590.06325281\n",
            "  26649.95442978 75589.96255778 54499.98225821 41049.94649192\n",
            "  27500.01824902 28570.04601014 53249.94135701 51850.07981161\n",
            "  42700.04718099 43199.9614892  35600.0394231  37775.0180533\n",
            "  38500.039626   31945.04159405 43899.93881703 27849.97183662\n",
            "  36750.04181656 62699.91756402 33899.99443331 28450.0336296\n",
            "  28949.99728193 20400.01006574 20400.01006574 47699.99027102\n",
            "  23900.02912299 42850.00891053 47699.99027102 25000.00408062\n",
            "  29350.02758721 25000.00408062 17599.99429556 39899.93837167\n",
            "  17599.99429556 21820.00565231 51249.96078764 21820.00565231\n",
            "  31449.96286259 26170.00759757 26170.00759757 30894.94733366\n",
            "  21489.9864416  21489.9864416  33000.03626519 65589.9403526\n",
            "  75589.96255778 75589.96255778 27494.97123427 28895.03054346\n",
            "  37775.0180533  36584.98147815 30544.9953591  32650.05431345\n",
            "  27899.94990512 24649.97647534 33899.99443331 37775.0180533\n",
            "  20400.01006574 47699.99027102 25000.00408062 33899.99443331\n",
            "  17599.99429556 99949.92204581 20400.01006574 21820.00565231\n",
            "  26349.99207516 47699.99027102 26170.00759757 25000.00408062\n",
            "  21489.9864416  17599.99429556 33449.93862447 75589.96255778\n",
            "  37775.0180533  20450.03187362 26245.04157388 46799.96468087\n",
            "  33899.99443331 54699.97280713 20400.01006574 27549.97977141\n",
            "  47699.99027102 25000.00408062 35949.9521452  54199.96803006\n",
            "  54800.08285292 27650.02881935 33790.05230434 40100.03982723\n",
            "  36500.0601644  33409.95886862 42399.92640716 22994.95901901\n",
            "  46899.91767817 17599.99429556 21820.00565231 26170.00759757\n",
            "  21489.9864416  75589.96255778 37775.0180533  33899.99443331\n",
            "  20400.01006574 47699.99027102 25000.00408062 17599.99429556\n",
            "  21820.00565231 26170.00759757 21489.9864416  75589.96255778\n",
            "  37775.0180533  33590.04558163 44999.92330468 27845.02834351\n",
            "  62695.06805848 23430.02827287 35700.06164301 27775.03763985\n",
            "  40325.05156152 25194.98300868 45600.0657347  27699.96897039\n",
            "  39000.04403963 24325.02962929 48499.92982372 25000.01565343]]\n"
          ]
        }
      ]
    },
    {
      "cell_type": "code",
      "source": [
        "original_pvalues = original_pvalues.ravel()\n",
        "df_pvalues = pd.DataFrame({'Price_predictions': original_pvalues})\n",
        "\n",
        "df_with_predictions = pd.concat([df_predict, df_pvalues], axis=1)\n"
      ],
      "metadata": {
        "id": "ch5WcRqSHHGN"
      },
      "execution_count": null,
      "outputs": []
    },
    {
      "cell_type": "code",
      "source": [
        "df_with_predictions.head()"
      ],
      "metadata": {
        "id": "WH29OJKHGSGy"
      },
      "execution_count": null,
      "outputs": []
    },
    {
      "cell_type": "code",
      "source": [],
      "metadata": {
        "id": "BQPCz23wGcbv"
      },
      "execution_count": null,
      "outputs": []
    }
  ]
}